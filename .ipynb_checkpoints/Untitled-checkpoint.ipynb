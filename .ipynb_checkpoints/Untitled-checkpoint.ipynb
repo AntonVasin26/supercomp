{
 "cells": [
  {
   "cell_type": "code",
   "execution_count": 8,
   "id": "21eaf4ee",
   "metadata": {},
   "outputs": [],
   "source": [
    "import numpy as np\n",
    "import matplotlib as mpl\n",
    "import matplotlib.pyplot as plt"
   ]
  },
  {
   "cell_type": "code",
   "execution_count": 17,
   "id": "45ac6875",
   "metadata": {},
   "outputs": [
    {
     "name": "stdout",
     "output_type": "stream",
     "text": [
      "[[1. 0. 0.]\n",
      " [0. 1. 0.]\n",
      " [0. 0. 0.]\n",
      " [0. 0. 0.]\n",
      " [0. 0. 0.]\n",
      " [0. 0. 0.]\n",
      " [0. 0. 0.]\n",
      " [0. 0. 0.]\n",
      " [0. 0. 0.]\n",
      " [0. 0. 0.]]\n",
      "[[0. 0. 0.]\n",
      " [0. 0. 0.]\n",
      " [0. 0. 0.]\n",
      " [0. 0. 0.]\n",
      " [0. 0. 0.]\n",
      " [0. 0. 0.]\n",
      " [0. 0. 0.]\n",
      " [0. 0. 0.]\n",
      " [0. 0. 0.]\n",
      " [0. 0. 0.]]\n",
      "[[0. 0. 0.]\n",
      " [0. 0. 0.]\n",
      " [0. 0. 0.]\n",
      " [0. 0. 0.]\n",
      " [0. 0. 0.]\n",
      " [0. 0. 0.]\n",
      " [0. 0. 0.]\n",
      " [0. 0. 0.]\n",
      " [0. 0. 0.]\n",
      " [0. 0. 0.]]\n"
     ]
    }
   ],
   "source": [
    "#initialization\n",
    "epsilon = 1\n",
    "sigma = 1\n",
    "M = 1\n",
    "N = 10\n",
    "inlist_X = np.zeros((N, 3))\n",
    "inlist_V = np.zeros((N, 3))\n",
    "inlist_A = np.zeros((N, 3))\n",
    "inlist_X[0][0] = 1\n",
    "inlist_X[1][1] = 1\n",
    "print(inlist_X)\n",
    "print(inlist_V)\n",
    "print(inlist_A)"
   ]
  },
  {
   "cell_type": "code",
   "execution_count": 10,
   "id": "15c0fbb8",
   "metadata": {},
   "outputs": [],
   "source": [
    "X=100\n",
    "Y=100\n",
    "Z=100"
   ]
  },
  {
   "cell_type": "code",
   "execution_count": 14,
   "id": "2cb74b2a",
   "metadata": {},
   "outputs": [],
   "source": [
    "#np.power optimal time\n",
    "K_LJ_1 = np.power(sigma,12)\n",
    "K_LJ_2 = np.power(sigma,6)"
   ]
  },
  {
   "cell_type": "code",
   "execution_count": 28,
   "id": "5bf766cb",
   "metadata": {},
   "outputs": [],
   "source": [
    "def slr_R(R):\n",
    "    slr = 0\n",
    "    for i in R:\n",
    "        slr+=np.power(i,2)\n",
    "    slr = \n",
    "    return(slr)\n",
    "\n",
    "K_1 = np.power(2,5)\n",
    "def F_LJ(R):\n",
    "    dist = slr_R(R)\n",
    "    slr_F = 4*epsilon*(-12*K_LJ_1/np.power(dist, 13) + 6*K_LJ_2/np.power(slr_R, 7))\n",
    "    F = slr_F*(R/dist)\n",
    "    return F\n",
    "    \n",
    "\n",
    "\n",
    "def f_x(inlist):\n",
    "        x = 1\n",
    "        return x\n",
    "\n",
    "#def f_v(inlist):\n",
    "    \n",
    "#def f_a(inlist):\n",
    "    \n",
    "    "
   ]
  },
  {
   "cell_type": "code",
   "execution_count": 29,
   "id": "46bfbab6",
   "metadata": {},
   "outputs": [
    {
     "name": "stdout",
     "output_type": "stream",
     "text": [
      "[ 1. -1.  0.]\n",
      "2.0\n"
     ]
    }
   ],
   "source": [
    "R_1 = R(inlist_X[1],inlist_X[0])\n",
    "print(R_1)\n",
    "print(slr_R(R_1))"
   ]
  },
  {
   "cell_type": "code",
   "execution_count": null,
   "id": "63b723f1",
   "metadata": {},
   "outputs": [],
   "source": []
  }
 ],
 "metadata": {
  "kernelspec": {
   "display_name": "Python 3",
   "language": "python",
   "name": "python3"
  },
  "language_info": {
   "codemirror_mode": {
    "name": "ipython",
    "version": 3
   },
   "file_extension": ".py",
   "mimetype": "text/x-python",
   "name": "python",
   "nbconvert_exporter": "python",
   "pygments_lexer": "ipython3",
   "version": "3.8.8"
  }
 },
 "nbformat": 4,
 "nbformat_minor": 5
}
